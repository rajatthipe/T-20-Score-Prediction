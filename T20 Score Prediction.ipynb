{
 "cells": [
  {
   "cell_type": "code",
   "execution_count": 2,
   "id": "95f59a68-e8fb-4c73-a154-54b51385b879",
   "metadata": {},
   "outputs": [],
   "source": [
    "import pandas as pd"
   ]
  },
  {
   "cell_type": "code",
   "execution_count": 5,
   "id": "c6aa1cba-2c52-4fb8-a72a-63c822ee1f2f",
   "metadata": {},
   "outputs": [],
   "source": [
    "import numpy as np"
   ]
  },
  {
   "cell_type": "code",
   "execution_count": 14,
   "id": "55cc4991-0505-459e-8f36-fd56359779ce",
   "metadata": {},
   "outputs": [],
   "source": [
    "import seaborn as sns\n",
    "import warnings\n",
    "warnings.filterwarnings(\"ignore\")"
   ]
  },
  {
   "cell_type": "code",
   "execution_count": 6,
   "id": "b35b2d3a-1bb3-4e9e-87d1-1cb8aacbd85b",
   "metadata": {},
   "outputs": [
    {
     "data": {
      "text/html": [
       "<div>\n",
       "<style scoped>\n",
       "    .dataframe tbody tr th:only-of-type {\n",
       "        vertical-align: middle;\n",
       "    }\n",
       "\n",
       "    .dataframe tbody tr th {\n",
       "        vertical-align: top;\n",
       "    }\n",
       "\n",
       "    .dataframe thead th {\n",
       "        text-align: right;\n",
       "    }\n",
       "</style>\n",
       "<table border=\"1\" class=\"dataframe\">\n",
       "  <thead>\n",
       "    <tr style=\"text-align: right;\">\n",
       "      <th></th>\n",
       "      <th>Match ID</th>\n",
       "      <th>Overs Played</th>\n",
       "      <th>Wickets Lost</th>\n",
       "      <th>Run Rate</th>\n",
       "      <th>Home/Away</th>\n",
       "      <th>Opponent Strength</th>\n",
       "      <th>Pitch Condition</th>\n",
       "      <th>Weather</th>\n",
       "      <th>Predicted Score</th>\n",
       "    </tr>\n",
       "  </thead>\n",
       "  <tbody>\n",
       "    <tr>\n",
       "      <th>0</th>\n",
       "      <td>1</td>\n",
       "      <td>7</td>\n",
       "      <td>1</td>\n",
       "      <td>11.04</td>\n",
       "      <td>Away</td>\n",
       "      <td>3</td>\n",
       "      <td>Bowling</td>\n",
       "      <td>Sunny</td>\n",
       "      <td>82</td>\n",
       "    </tr>\n",
       "    <tr>\n",
       "      <th>1</th>\n",
       "      <td>2</td>\n",
       "      <td>20</td>\n",
       "      <td>10</td>\n",
       "      <td>11.87</td>\n",
       "      <td>Home</td>\n",
       "      <td>5</td>\n",
       "      <td>Bowling</td>\n",
       "      <td>Sunny</td>\n",
       "      <td>204</td>\n",
       "    </tr>\n",
       "    <tr>\n",
       "      <th>2</th>\n",
       "      <td>3</td>\n",
       "      <td>15</td>\n",
       "      <td>7</td>\n",
       "      <td>6.14</td>\n",
       "      <td>Home</td>\n",
       "      <td>7</td>\n",
       "      <td>Balanced</td>\n",
       "      <td>Sunny</td>\n",
       "      <td>105</td>\n",
       "    </tr>\n",
       "    <tr>\n",
       "      <th>3</th>\n",
       "      <td>4</td>\n",
       "      <td>11</td>\n",
       "      <td>8</td>\n",
       "      <td>8.84</td>\n",
       "      <td>Home</td>\n",
       "      <td>9</td>\n",
       "      <td>Batting</td>\n",
       "      <td>Cloudy</td>\n",
       "      <td>121</td>\n",
       "    </tr>\n",
       "    <tr>\n",
       "      <th>4</th>\n",
       "      <td>5</td>\n",
       "      <td>8</td>\n",
       "      <td>0</td>\n",
       "      <td>9.56</td>\n",
       "      <td>Home</td>\n",
       "      <td>2</td>\n",
       "      <td>Balanced</td>\n",
       "      <td>Sunny</td>\n",
       "      <td>104</td>\n",
       "    </tr>\n",
       "    <tr>\n",
       "      <th>...</th>\n",
       "      <td>...</td>\n",
       "      <td>...</td>\n",
       "      <td>...</td>\n",
       "      <td>...</td>\n",
       "      <td>...</td>\n",
       "      <td>...</td>\n",
       "      <td>...</td>\n",
       "      <td>...</td>\n",
       "      <td>...</td>\n",
       "    </tr>\n",
       "    <tr>\n",
       "      <th>1495</th>\n",
       "      <td>1496</td>\n",
       "      <td>15</td>\n",
       "      <td>8</td>\n",
       "      <td>9.82</td>\n",
       "      <td>Home</td>\n",
       "      <td>3</td>\n",
       "      <td>Bowling</td>\n",
       "      <td>Overcast</td>\n",
       "      <td>113</td>\n",
       "    </tr>\n",
       "    <tr>\n",
       "      <th>1496</th>\n",
       "      <td>1497</td>\n",
       "      <td>2</td>\n",
       "      <td>10</td>\n",
       "      <td>13.41</td>\n",
       "      <td>Home</td>\n",
       "      <td>9</td>\n",
       "      <td>Balanced</td>\n",
       "      <td>Sunny</td>\n",
       "      <td>29</td>\n",
       "    </tr>\n",
       "    <tr>\n",
       "      <th>1497</th>\n",
       "      <td>1498</td>\n",
       "      <td>3</td>\n",
       "      <td>6</td>\n",
       "      <td>7.21</td>\n",
       "      <td>Home</td>\n",
       "      <td>1</td>\n",
       "      <td>Batting</td>\n",
       "      <td>Overcast</td>\n",
       "      <td>40</td>\n",
       "    </tr>\n",
       "    <tr>\n",
       "      <th>1498</th>\n",
       "      <td>1499</td>\n",
       "      <td>17</td>\n",
       "      <td>6</td>\n",
       "      <td>8.81</td>\n",
       "      <td>Away</td>\n",
       "      <td>5</td>\n",
       "      <td>Bowling</td>\n",
       "      <td>Overcast</td>\n",
       "      <td>116</td>\n",
       "    </tr>\n",
       "    <tr>\n",
       "      <th>1499</th>\n",
       "      <td>1500</td>\n",
       "      <td>12</td>\n",
       "      <td>0</td>\n",
       "      <td>13.08</td>\n",
       "      <td>Away</td>\n",
       "      <td>2</td>\n",
       "      <td>Batting</td>\n",
       "      <td>Cloudy</td>\n",
       "      <td>216</td>\n",
       "    </tr>\n",
       "  </tbody>\n",
       "</table>\n",
       "<p>1500 rows × 9 columns</p>\n",
       "</div>"
      ],
      "text/plain": [
       "      Match ID  Overs Played  Wickets Lost  Run Rate Home/Away  \\\n",
       "0            1             7             1     11.04      Away   \n",
       "1            2            20            10     11.87      Home   \n",
       "2            3            15             7      6.14      Home   \n",
       "3            4            11             8      8.84      Home   \n",
       "4            5             8             0      9.56      Home   \n",
       "...        ...           ...           ...       ...       ...   \n",
       "1495      1496            15             8      9.82      Home   \n",
       "1496      1497             2            10     13.41      Home   \n",
       "1497      1498             3             6      7.21      Home   \n",
       "1498      1499            17             6      8.81      Away   \n",
       "1499      1500            12             0     13.08      Away   \n",
       "\n",
       "      Opponent Strength Pitch Condition   Weather  Predicted Score  \n",
       "0                     3         Bowling     Sunny               82  \n",
       "1                     5         Bowling     Sunny              204  \n",
       "2                     7        Balanced     Sunny              105  \n",
       "3                     9         Batting    Cloudy              121  \n",
       "4                     2        Balanced     Sunny              104  \n",
       "...                 ...             ...       ...              ...  \n",
       "1495                  3         Bowling  Overcast              113  \n",
       "1496                  9        Balanced     Sunny               29  \n",
       "1497                  1         Batting  Overcast               40  \n",
       "1498                  5         Bowling  Overcast              116  \n",
       "1499                  2         Batting    Cloudy              216  \n",
       "\n",
       "[1500 rows x 9 columns]"
      ]
     },
     "execution_count": 6,
     "metadata": {},
     "output_type": "execute_result"
    }
   ],
   "source": [
    "df = pd.read_csv(r\"D:\\Downloads\\t20_ score _prediction.csv\")\n",
    "df"
   ]
  },
  {
   "cell_type": "code",
   "execution_count": 7,
   "id": "384991ab-0242-4ac2-a426-5a3ed1f7845a",
   "metadata": {},
   "outputs": [
    {
     "data": {
      "text/plain": [
       "Match ID             0\n",
       "Overs Played         0\n",
       "Wickets Lost         0\n",
       "Run Rate             0\n",
       "Home/Away            0\n",
       "Opponent Strength    0\n",
       "Pitch Condition      0\n",
       "Weather              0\n",
       "Predicted Score      0\n",
       "dtype: int64"
      ]
     },
     "execution_count": 7,
     "metadata": {},
     "output_type": "execute_result"
    }
   ],
   "source": [
    "df.isna().sum()"
   ]
  },
  {
   "cell_type": "code",
   "execution_count": 8,
   "id": "4f3cffbb-117d-40ff-b201-3d6b0f929a65",
   "metadata": {},
   "outputs": [
    {
     "data": {
      "text/plain": [
       "<Axes: >"
      ]
     },
     "execution_count": 8,
     "metadata": {},
     "output_type": "execute_result"
    },
    {
     "data": {
      "image/png": "[encoded data removed]",
      "text/plain": [
       "<Figure size 640x480 with 1 Axes>"
      ]
     },
     "metadata": {},
     "output_type": "display_data"
    }
   ],
   "source": [
    "sns.boxplot(data = df)"
   ]
  },
  {
   "cell_type": "markdown",
   "id": "0ade7836-5d1c-42f1-ae41-b26ff31f4bf2",
   "metadata": {},
   "source": [
    "## Treating outliers using winzorizing technniqur"
   ]
  },
  {
   "cell_type": "code",
   "execution_count": 15,
   "id": "040e06d9-820f-434e-bd2d-e27490215d17",
   "metadata": {},
   "outputs": [],
   "source": [
    "for i in df:\n",
    "    if df[i].dtype in ('float64','int64'):\n",
    "        q1 = df[i].quantile(0.25)\n",
    "        q3 = df[i].quantile(0.75)\n",
    "        iqr = q1 - q3\n",
    "        ll = q1 - 1.5*iqr\n",
    "        ul = q3 + 1.5*iqr\n",
    "        df[i].clip(upper = ul, lower = ll, inplace = True)"
   ]
  },
  {
   "cell_type": "code",
   "execution_count": 10,
   "id": "369208df-6638-47d9-a75f-b4ea3759e70f",
   "metadata": {},
   "outputs": [
    {
     "name": "stdout",
     "output_type": "stream",
     "text": [
      "<class 'pandas.core.frame.DataFrame'>\n",
      "RangeIndex: 1500 entries, 0 to 1499\n",
      "Data columns (total 9 columns):\n",
      " #   Column             Non-Null Count  Dtype  \n",
      "---  ------             --------------  -----  \n",
      " 0   Match ID           1500 non-null   int64  \n",
      " 1   Overs Played       1500 non-null   int64  \n",
      " 2   Wickets Lost       1500 non-null   int64  \n",
      " 3   Run Rate           1500 non-null   float64\n",
      " 4   Home/Away          1500 non-null   object \n",
      " 5   Opponent Strength  1500 non-null   int64  \n",
      " 6   Pitch Condition    1500 non-null   object \n",
      " 7   Weather            1500 non-null   object \n",
      " 8   Predicted Score    1500 non-null   int64  \n",
      "dtypes: float64(1), int64(5), object(3)\n",
      "memory usage: 105.6+ KB\n"
     ]
    }
   ],
   "source": [
    "df.info()"
   ]
  },
  {
   "cell_type": "code",
   "execution_count": 16,
   "id": "70953231-301f-48db-9ad0-83c41f5732bf",
   "metadata": {},
   "outputs": [
    {
     "data": {
      "text/plain": [
       "<Axes: >"
      ]
     },
     "execution_count": 16,
     "metadata": {},
     "output_type": "execute_result"
    },
    {
     "data": {
      "image/png": "[encoded data removed]",
      "text/plain": [
       "<Figure size 640x480 with 1 Axes>"
      ]
     },
     "metadata": {},
     "output_type": "display_data"
    }
   ],
   "source": [
    "sns.boxplot(data = df)"
   ]
  },
  {
   "cell_type": "markdown",
   "id": "f4aa50ce-4c65-4244-a9cb-7d92b2bba4a4",
   "metadata": {},
   "source": [
    "# Data Partation"
   ]
  },
  {
   "cell_type": "code",
   "execution_count": 18,
   "id": "1747fbca-593d-4aea-adb2-dbb8d9eb1f79",
   "metadata": {},
   "outputs": [
    {
     "data": {
      "text/html": [
       "<div>\n",
       "<style scoped>\n",
       "    .dataframe tbody tr th:only-of-type {\n",
       "        vertical-align: middle;\n",
       "    }\n",
       "\n",
       "    .dataframe tbody tr th {\n",
       "        vertical-align: top;\n",
       "    }\n",
       "\n",
       "    .dataframe thead th {\n",
       "        text-align: right;\n",
       "    }\n",
       "</style>\n",
       "<table border=\"1\" class=\"dataframe\">\n",
       "  <thead>\n",
       "    <tr style=\"text-align: right;\">\n",
       "      <th></th>\n",
       "      <th>Overs Played</th>\n",
       "      <th>Wickets Lost</th>\n",
       "      <th>Run Rate</th>\n",
       "      <th>Opponent Strength</th>\n",
       "      <th>Predicted Score</th>\n",
       "    </tr>\n",
       "  </thead>\n",
       "  <tbody>\n",
       "    <tr>\n",
       "      <th>0</th>\n",
       "      <td>7</td>\n",
       "      <td>1</td>\n",
       "      <td>11.04</td>\n",
       "      <td>3</td>\n",
       "      <td>82.0</td>\n",
       "    </tr>\n",
       "    <tr>\n",
       "      <th>1</th>\n",
       "      <td>20</td>\n",
       "      <td>10</td>\n",
       "      <td>11.87</td>\n",
       "      <td>5</td>\n",
       "      <td>204.0</td>\n",
       "    </tr>\n",
       "    <tr>\n",
       "      <th>2</th>\n",
       "      <td>15</td>\n",
       "      <td>7</td>\n",
       "      <td>6.14</td>\n",
       "      <td>7</td>\n",
       "      <td>105.0</td>\n",
       "    </tr>\n",
       "    <tr>\n",
       "      <th>3</th>\n",
       "      <td>11</td>\n",
       "      <td>8</td>\n",
       "      <td>8.84</td>\n",
       "      <td>9</td>\n",
       "      <td>121.0</td>\n",
       "    </tr>\n",
       "    <tr>\n",
       "      <th>4</th>\n",
       "      <td>8</td>\n",
       "      <td>0</td>\n",
       "      <td>9.56</td>\n",
       "      <td>2</td>\n",
       "      <td>104.0</td>\n",
       "    </tr>\n",
       "    <tr>\n",
       "      <th>...</th>\n",
       "      <td>...</td>\n",
       "      <td>...</td>\n",
       "      <td>...</td>\n",
       "      <td>...</td>\n",
       "      <td>...</td>\n",
       "    </tr>\n",
       "    <tr>\n",
       "      <th>1495</th>\n",
       "      <td>15</td>\n",
       "      <td>8</td>\n",
       "      <td>9.82</td>\n",
       "      <td>3</td>\n",
       "      <td>113.0</td>\n",
       "    </tr>\n",
       "    <tr>\n",
       "      <th>1496</th>\n",
       "      <td>2</td>\n",
       "      <td>10</td>\n",
       "      <td>13.41</td>\n",
       "      <td>9</td>\n",
       "      <td>29.0</td>\n",
       "    </tr>\n",
       "    <tr>\n",
       "      <th>1497</th>\n",
       "      <td>3</td>\n",
       "      <td>6</td>\n",
       "      <td>7.21</td>\n",
       "      <td>1</td>\n",
       "      <td>40.0</td>\n",
       "    </tr>\n",
       "    <tr>\n",
       "      <th>1498</th>\n",
       "      <td>17</td>\n",
       "      <td>6</td>\n",
       "      <td>8.81</td>\n",
       "      <td>5</td>\n",
       "      <td>116.0</td>\n",
       "    </tr>\n",
       "    <tr>\n",
       "      <th>1499</th>\n",
       "      <td>12</td>\n",
       "      <td>0</td>\n",
       "      <td>13.08</td>\n",
       "      <td>2</td>\n",
       "      <td>207.5</td>\n",
       "    </tr>\n",
       "  </tbody>\n",
       "</table>\n",
       "<p>1500 rows × 5 columns</p>\n",
       "</div>"
      ],
      "text/plain": [
       "      Overs Played  Wickets Lost  Run Rate  Opponent Strength  Predicted Score\n",
       "0                7             1     11.04                  3             82.0\n",
       "1               20            10     11.87                  5            204.0\n",
       "2               15             7      6.14                  7            105.0\n",
       "3               11             8      8.84                  9            121.0\n",
       "4                8             0      9.56                  2            104.0\n",
       "...            ...           ...       ...                ...              ...\n",
       "1495            15             8      9.82                  3            113.0\n",
       "1496             2            10     13.41                  9             29.0\n",
       "1497             3             6      7.21                  1             40.0\n",
       "1498            17             6      8.81                  5            116.0\n",
       "1499            12             0     13.08                  2            207.5\n",
       "\n",
       "[1500 rows x 5 columns]"
      ]
     },
     "execution_count": 18,
     "metadata": {},
     "output_type": "execute_result"
    }
   ],
   "source": [
    "a = df.drop(['Match ID','Home/Away','Pitch Condition','Weather'], axis = 1)\n",
    "a"
   ]
  },
  {
   "cell_type": "code",
   "execution_count": 19,
   "id": "07ee16dc-7ce0-4ba0-9d74-8eb0d85e5080",
   "metadata": {},
   "outputs": [
    {
     "data": {
      "text/html": [
       "<div>\n",
       "<style scoped>\n",
       "    .dataframe tbody tr th:only-of-type {\n",
       "        vertical-align: middle;\n",
       "    }\n",
       "\n",
       "    .dataframe tbody tr th {\n",
       "        vertical-align: top;\n",
       "    }\n",
       "\n",
       "    .dataframe thead th {\n",
       "        text-align: right;\n",
       "    }\n",
       "</style>\n",
       "<table border=\"1\" class=\"dataframe\">\n",
       "  <thead>\n",
       "    <tr style=\"text-align: right;\">\n",
       "      <th></th>\n",
       "      <th>overs_played</th>\n",
       "      <th>wickets_lost</th>\n",
       "      <th>run_rate</th>\n",
       "      <th>opponent_strength</th>\n",
       "      <th>predicted_score</th>\n",
       "    </tr>\n",
       "  </thead>\n",
       "  <tbody>\n",
       "    <tr>\n",
       "      <th>0</th>\n",
       "      <td>7</td>\n",
       "      <td>1</td>\n",
       "      <td>11.04</td>\n",
       "      <td>3</td>\n",
       "      <td>82.0</td>\n",
       "    </tr>\n",
       "    <tr>\n",
       "      <th>1</th>\n",
       "      <td>20</td>\n",
       "      <td>10</td>\n",
       "      <td>11.87</td>\n",
       "      <td>5</td>\n",
       "      <td>204.0</td>\n",
       "    </tr>\n",
       "    <tr>\n",
       "      <th>2</th>\n",
       "      <td>15</td>\n",
       "      <td>7</td>\n",
       "      <td>6.14</td>\n",
       "      <td>7</td>\n",
       "      <td>105.0</td>\n",
       "    </tr>\n",
       "    <tr>\n",
       "      <th>3</th>\n",
       "      <td>11</td>\n",
       "      <td>8</td>\n",
       "      <td>8.84</td>\n",
       "      <td>9</td>\n",
       "      <td>121.0</td>\n",
       "    </tr>\n",
       "    <tr>\n",
       "      <th>4</th>\n",
       "      <td>8</td>\n",
       "      <td>0</td>\n",
       "      <td>9.56</td>\n",
       "      <td>2</td>\n",
       "      <td>104.0</td>\n",
       "    </tr>\n",
       "    <tr>\n",
       "      <th>...</th>\n",
       "      <td>...</td>\n",
       "      <td>...</td>\n",
       "      <td>...</td>\n",
       "      <td>...</td>\n",
       "      <td>...</td>\n",
       "    </tr>\n",
       "    <tr>\n",
       "      <th>1495</th>\n",
       "      <td>15</td>\n",
       "      <td>8</td>\n",
       "      <td>9.82</td>\n",
       "      <td>3</td>\n",
       "      <td>113.0</td>\n",
       "    </tr>\n",
       "    <tr>\n",
       "      <th>1496</th>\n",
       "      <td>2</td>\n",
       "      <td>10</td>\n",
       "      <td>13.41</td>\n",
       "      <td>9</td>\n",
       "      <td>29.0</td>\n",
       "    </tr>\n",
       "    <tr>\n",
       "      <th>1497</th>\n",
       "      <td>3</td>\n",
       "      <td>6</td>\n",
       "      <td>7.21</td>\n",
       "      <td>1</td>\n",
       "      <td>40.0</td>\n",
       "    </tr>\n",
       "    <tr>\n",
       "      <th>1498</th>\n",
       "      <td>17</td>\n",
       "      <td>6</td>\n",
       "      <td>8.81</td>\n",
       "      <td>5</td>\n",
       "      <td>116.0</td>\n",
       "    </tr>\n",
       "    <tr>\n",
       "      <th>1499</th>\n",
       "      <td>12</td>\n",
       "      <td>0</td>\n",
       "      <td>13.08</td>\n",
       "      <td>2</td>\n",
       "      <td>207.5</td>\n",
       "    </tr>\n",
       "  </tbody>\n",
       "</table>\n",
       "<p>1500 rows × 5 columns</p>\n",
       "</div>"
      ],
      "text/plain": [
       "      overs_played  wickets_lost  run_rate  opponent_strength  predicted_score\n",
       "0                7             1     11.04                  3             82.0\n",
       "1               20            10     11.87                  5            204.0\n",
       "2               15             7      6.14                  7            105.0\n",
       "3               11             8      8.84                  9            121.0\n",
       "4                8             0      9.56                  2            104.0\n",
       "...            ...           ...       ...                ...              ...\n",
       "1495            15             8      9.82                  3            113.0\n",
       "1496             2            10     13.41                  9             29.0\n",
       "1497             3             6      7.21                  1             40.0\n",
       "1498            17             6      8.81                  5            116.0\n",
       "1499            12             0     13.08                  2            207.5\n",
       "\n",
       "[1500 rows x 5 columns]"
      ]
     },
     "execution_count": 19,
     "metadata": {},
     "output_type": "execute_result"
    }
   ],
   "source": [
    "a = a.rename(columns={'Overs Played':'overs_played','Wickets Lost':'wickets_lost','Run Rate':'run_rate','Opponent Strength':'opponent_strength','Predicted Score':'predicted_score'})\n",
    "a"
   ]
  },
  {
   "cell_type": "code",
   "execution_count": 20,
   "id": "b334ca7b-a52d-4b36-8d97-a042f345c11d",
   "metadata": {},
   "outputs": [],
   "source": [
    "x = a.drop('predicted_score', axis =1)\n",
    "y = a[['predicted_score']]"
   ]
  },
  {
   "cell_type": "code",
   "execution_count": 23,
   "id": "b203db91-9d0c-4e1b-b9a0-af03c37f3501",
   "metadata": {},
   "outputs": [],
   "source": [
    "from sklearn.model_selection import train_test_split"
   ]
  },
  {
   "cell_type": "code",
   "execution_count": 24,
   "id": "78fc798a-b34d-4026-92c4-4326f84ded19",
   "metadata": {},
   "outputs": [],
   "source": [
    "x_train, x_test, y_train, y_test = train_test_split(x, y , train_size = 0.7, random_state = 15)"
   ]
  },
  {
   "cell_type": "code",
   "execution_count": 26,
   "id": "03132a66-98e3-429a-a9a6-9a4ceb0a8552",
   "metadata": {},
   "outputs": [
    {
     "data": {
      "text/html": [
       "<div>\n",
       "<style scoped>\n",
       "    .dataframe tbody tr th:only-of-type {\n",
       "        vertical-align: middle;\n",
       "    }\n",
       "\n",
       "    .dataframe tbody tr th {\n",
       "        vertical-align: top;\n",
       "    }\n",
       "\n",
       "    .dataframe thead th {\n",
       "        text-align: right;\n",
       "    }\n",
       "</style>\n",
       "<table border=\"1\" class=\"dataframe\">\n",
       "  <thead>\n",
       "    <tr style=\"text-align: right;\">\n",
       "      <th></th>\n",
       "      <th>overs_played</th>\n",
       "      <th>wickets_lost</th>\n",
       "      <th>run_rate</th>\n",
       "      <th>opponent_strength</th>\n",
       "      <th>predicted_score</th>\n",
       "    </tr>\n",
       "  </thead>\n",
       "  <tbody>\n",
       "    <tr>\n",
       "      <th>1020</th>\n",
       "      <td>20</td>\n",
       "      <td>9</td>\n",
       "      <td>14.08</td>\n",
       "      <td>2</td>\n",
       "      <td>207.5</td>\n",
       "    </tr>\n",
       "    <tr>\n",
       "      <th>1406</th>\n",
       "      <td>13</td>\n",
       "      <td>7</td>\n",
       "      <td>12.54</td>\n",
       "      <td>1</td>\n",
       "      <td>207.5</td>\n",
       "    </tr>\n",
       "    <tr>\n",
       "      <th>298</th>\n",
       "      <td>3</td>\n",
       "      <td>0</td>\n",
       "      <td>11.33</td>\n",
       "      <td>6</td>\n",
       "      <td>67.0</td>\n",
       "    </tr>\n",
       "    <tr>\n",
       "      <th>1187</th>\n",
       "      <td>1</td>\n",
       "      <td>7</td>\n",
       "      <td>7.11</td>\n",
       "      <td>4</td>\n",
       "      <td>15.0</td>\n",
       "    </tr>\n",
       "    <tr>\n",
       "      <th>235</th>\n",
       "      <td>1</td>\n",
       "      <td>3</td>\n",
       "      <td>7.81</td>\n",
       "      <td>10</td>\n",
       "      <td>16.0</td>\n",
       "    </tr>\n",
       "  </tbody>\n",
       "</table>\n",
       "</div>"
      ],
      "text/plain": [
       "      overs_played  wickets_lost  run_rate  opponent_strength  predicted_score\n",
       "1020            20             9     14.08                  2            207.5\n",
       "1406            13             7     12.54                  1            207.5\n",
       "298              3             0     11.33                  6             67.0\n",
       "1187             1             7      7.11                  4             15.0\n",
       "235              1             3      7.81                 10             16.0"
      ]
     },
     "execution_count": 26,
     "metadata": {},
     "output_type": "execute_result"
    }
   ],
   "source": [
    "train = pd.concat([x_train, y_train], axis = 1)\n",
    "train.head()"
   ]
  },
  {
   "cell_type": "markdown",
   "id": "07c397a7-87b1-4a6c-9cc1-25060bd819d3",
   "metadata": {},
   "source": [
    "# correlation"
   ]
  },
  {
   "cell_type": "code",
   "execution_count": 27,
   "id": "df2c87e6-280b-4aae-97fa-4988648d9671",
   "metadata": {},
   "outputs": [
    {
     "data": {
      "text/html": [
       "<div>\n",
       "<style scoped>\n",
       "    .dataframe tbody tr th:only-of-type {\n",
       "        vertical-align: middle;\n",
       "    }\n",
       "\n",
       "    .dataframe tbody tr th {\n",
       "        vertical-align: top;\n",
       "    }\n",
       "\n",
       "    .dataframe thead th {\n",
       "        text-align: right;\n",
       "    }\n",
       "</style>\n",
       "<table border=\"1\" class=\"dataframe\">\n",
       "  <thead>\n",
       "    <tr style=\"text-align: right;\">\n",
       "      <th></th>\n",
       "      <th>overs_played</th>\n",
       "      <th>wickets_lost</th>\n",
       "      <th>run_rate</th>\n",
       "      <th>opponent_strength</th>\n",
       "      <th>predicted_score</th>\n",
       "    </tr>\n",
       "  </thead>\n",
       "  <tbody>\n",
       "    <tr>\n",
       "      <th>overs_played</th>\n",
       "      <td>1.000000</td>\n",
       "      <td>0.049454</td>\n",
       "      <td>0.029466</td>\n",
       "      <td>-0.031464</td>\n",
       "      <td>0.843412</td>\n",
       "    </tr>\n",
       "    <tr>\n",
       "      <th>wickets_lost</th>\n",
       "      <td>0.049454</td>\n",
       "      <td>1.000000</td>\n",
       "      <td>-0.000640</td>\n",
       "      <td>0.010796</td>\n",
       "      <td>-0.021428</td>\n",
       "    </tr>\n",
       "    <tr>\n",
       "      <th>run_rate</th>\n",
       "      <td>0.029466</td>\n",
       "      <td>-0.000640</td>\n",
       "      <td>1.000000</td>\n",
       "      <td>-0.078192</td>\n",
       "      <td>0.425712</td>\n",
       "    </tr>\n",
       "    <tr>\n",
       "      <th>opponent_strength</th>\n",
       "      <td>-0.031464</td>\n",
       "      <td>0.010796</td>\n",
       "      <td>-0.078192</td>\n",
       "      <td>1.000000</td>\n",
       "      <td>-0.095653</td>\n",
       "    </tr>\n",
       "    <tr>\n",
       "      <th>predicted_score</th>\n",
       "      <td>0.843412</td>\n",
       "      <td>-0.021428</td>\n",
       "      <td>0.425712</td>\n",
       "      <td>-0.095653</td>\n",
       "      <td>1.000000</td>\n",
       "    </tr>\n",
       "  </tbody>\n",
       "</table>\n",
       "</div>"
      ],
      "text/plain": [
       "                   overs_played  wickets_lost  run_rate  opponent_strength  \\\n",
       "overs_played           1.000000      0.049454  0.029466          -0.031464   \n",
       "wickets_lost           0.049454      1.000000 -0.000640           0.010796   \n",
       "run_rate               0.029466     -0.000640  1.000000          -0.078192   \n",
       "opponent_strength     -0.031464      0.010796 -0.078192           1.000000   \n",
       "predicted_score        0.843412     -0.021428  0.425712          -0.095653   \n",
       "\n",
       "                   predicted_score  \n",
       "overs_played              0.843412  \n",
       "wickets_lost             -0.021428  \n",
       "run_rate                  0.425712  \n",
       "opponent_strength        -0.095653  \n",
       "predicted_score           1.000000  "
      ]
     },
     "execution_count": 27,
     "metadata": {},
     "output_type": "execute_result"
    }
   ],
   "source": [
    "correlation = train.corr()\n",
    "correlation"
   ]
  },
  {
   "cell_type": "code",
   "execution_count": 28,
   "id": "f4ee2b78-c0a2-4bc7-beef-25f54070b6f5",
   "metadata": {},
   "outputs": [
    {
     "data": {
      "text/html": [
       "<style type=\"text/css\">\n",
       "#T_f7bdd_row0_col0, #T_f7bdd_row0_col4, #T_f7bdd_row1_col1, #T_f7bdd_row2_col2, #T_f7bdd_row3_col3, #T_f7bdd_row4_col0, #T_f7bdd_row4_col4 {\n",
       "  background-color: yellow;\n",
       "}\n",
       "</style>\n",
       "<table id=\"T_f7bdd\">\n",
       "  <thead>\n",
       "    <tr>\n",
       "      <th class=\"blank level0\" >&nbsp;</th>\n",
       "      <th id=\"T_f7bdd_level0_col0\" class=\"col_heading level0 col0\" >overs_played</th>\n",
       "      <th id=\"T_f7bdd_level0_col1\" class=\"col_heading level0 col1\" >wickets_lost</th>\n",
       "      <th id=\"T_f7bdd_level0_col2\" class=\"col_heading level0 col2\" >run_rate</th>\n",
       "      <th id=\"T_f7bdd_level0_col3\" class=\"col_heading level0 col3\" >opponent_strength</th>\n",
       "      <th id=\"T_f7bdd_level0_col4\" class=\"col_heading level0 col4\" >predicted_score</th>\n",
       "    </tr>\n",
       "  </thead>\n",
       "  <tbody>\n",
       "    <tr>\n",
       "      <th id=\"T_f7bdd_level0_row0\" class=\"row_heading level0 row0\" >overs_played</th>\n",
       "      <td id=\"T_f7bdd_row0_col0\" class=\"data row0 col0\" >1.000000</td>\n",
       "      <td id=\"T_f7bdd_row0_col1\" class=\"data row0 col1\" >0.049454</td>\n",
       "      <td id=\"T_f7bdd_row0_col2\" class=\"data row0 col2\" >0.029466</td>\n",
       "      <td id=\"T_f7bdd_row0_col3\" class=\"data row0 col3\" >-0.031464</td>\n",
       "      <td id=\"T_f7bdd_row0_col4\" class=\"data row0 col4\" >0.843412</td>\n",
       "    </tr>\n",
       "    <tr>\n",
       "      <th id=\"T_f7bdd_level0_row1\" class=\"row_heading level0 row1\" >wickets_lost</th>\n",
       "      <td id=\"T_f7bdd_row1_col0\" class=\"data row1 col0\" >0.049454</td>\n",
       "      <td id=\"T_f7bdd_row1_col1\" class=\"data row1 col1\" >1.000000</td>\n",
       "      <td id=\"T_f7bdd_row1_col2\" class=\"data row1 col2\" >-0.000640</td>\n",
       "      <td id=\"T_f7bdd_row1_col3\" class=\"data row1 col3\" >0.010796</td>\n",
       "      <td id=\"T_f7bdd_row1_col4\" class=\"data row1 col4\" >-0.021428</td>\n",
       "    </tr>\n",
       "    <tr>\n",
       "      <th id=\"T_f7bdd_level0_row2\" class=\"row_heading level0 row2\" >run_rate</th>\n",
       "      <td id=\"T_f7bdd_row2_col0\" class=\"data row2 col0\" >0.029466</td>\n",
       "      <td id=\"T_f7bdd_row2_col1\" class=\"data row2 col1\" >-0.000640</td>\n",
       "      <td id=\"T_f7bdd_row2_col2\" class=\"data row2 col2\" >1.000000</td>\n",
       "      <td id=\"T_f7bdd_row2_col3\" class=\"data row2 col3\" >-0.078192</td>\n",
       "      <td id=\"T_f7bdd_row2_col4\" class=\"data row2 col4\" >0.425712</td>\n",
       "    </tr>\n",
       "    <tr>\n",
       "      <th id=\"T_f7bdd_level0_row3\" class=\"row_heading level0 row3\" >opponent_strength</th>\n",
       "      <td id=\"T_f7bdd_row3_col0\" class=\"data row3 col0\" >-0.031464</td>\n",
       "      <td id=\"T_f7bdd_row3_col1\" class=\"data row3 col1\" >0.010796</td>\n",
       "      <td id=\"T_f7bdd_row3_col2\" class=\"data row3 col2\" >-0.078192</td>\n",
       "      <td id=\"T_f7bdd_row3_col3\" class=\"data row3 col3\" >1.000000</td>\n",
       "      <td id=\"T_f7bdd_row3_col4\" class=\"data row3 col4\" >-0.095653</td>\n",
       "    </tr>\n",
       "    <tr>\n",
       "      <th id=\"T_f7bdd_level0_row4\" class=\"row_heading level0 row4\" >predicted_score</th>\n",
       "      <td id=\"T_f7bdd_row4_col0\" class=\"data row4 col0\" >0.843412</td>\n",
       "      <td id=\"T_f7bdd_row4_col1\" class=\"data row4 col1\" >-0.021428</td>\n",
       "      <td id=\"T_f7bdd_row4_col2\" class=\"data row4 col2\" >0.425712</td>\n",
       "      <td id=\"T_f7bdd_row4_col3\" class=\"data row4 col3\" >-0.095653</td>\n",
       "      <td id=\"T_f7bdd_row4_col4\" class=\"data row4 col4\" >1.000000</td>\n",
       "    </tr>\n",
       "  </tbody>\n",
       "</table>\n"
      ],
      "text/plain": [
       "<pandas.io.formats.style.Styler at 0x194740f68d0>"
      ]
     },
     "execution_count": 28,
     "metadata": {},
     "output_type": "execute_result"
    }
   ],
   "source": [
    "correlation.style.applymap(lambda x : 'background-color : yellow' if x > 0.7 else '')"
   ]
  },
  {
   "cell_type": "code",
   "execution_count": 30,
   "id": "858026ec-8f8a-4587-860b-008ac6a40990",
   "metadata": {},
   "outputs": [
    {
     "data": {
      "text/plain": [
       "<Axes: >"
      ]
     },
     "execution_count": 30,
     "metadata": {},
     "output_type": "execute_result"
    },
    {
     "data": {
      "image/png": "[encoded data removed]",
      "text/plain": [
       "<Figure size 640x480 with 2 Axes>"
      ]
     },
     "metadata": {},
     "output_type": "display_data"
    }
   ],
   "source": [
    "sns.heatmap(correlation, annot = True)"
   ]
  },
  {
   "cell_type": "markdown",
   "id": "3c5641db-abd2-41f7-8d25-e159ac9be67d",
   "metadata": {},
   "source": [
    "## 84 % strong corr b/w Predicted score and overs played"
   ]
  },
  {
   "cell_type": "code",
   "execution_count": 31,
   "id": "1828924f-8e1f-451f-a805-56863c7cd041",
   "metadata": {},
   "outputs": [],
   "source": [
    "from sklearn.linear_model import LinearRegression"
   ]
  },
  {
   "cell_type": "markdown",
   "id": "61b6b1ae-0cd6-41a3-879a-3f15d5975d87",
   "metadata": {},
   "source": [
    "## VIF Varience Inflation Facto"
   ]
  },
  {
   "cell_type": "code",
   "execution_count": 40,
   "id": "6deff51a-1f46-42df-b73a-d919a673ba02",
   "metadata": {},
   "outputs": [],
   "source": [
    "# from statsmodels.stats.outliers_influence import varience_influence_factor\n",
    "from statsmodels.stats.outliers_influence import variance_inflation_factor"
   ]
  },
  {
   "cell_type": "code",
   "execution_count": 41,
   "id": "ef0eef55-02b5-4080-9765-73a018a40e11",
   "metadata": {},
   "outputs": [],
   "source": [
    "x1 = a.drop(['predicted_score'], axis = 1)\n",
    "series_before = pd.Series([variance_inflation_factor(x1.values,i) for i in range(x1.shape[1])], index = x1.columns)"
   ]
  },
  {
   "cell_type": "code",
   "execution_count": 42,
   "id": "3de57bbe-6155-443d-9be1-bf80fa87d71d",
   "metadata": {},
   "outputs": [
    {
     "data": {
      "text/plain": [
       "overs_played         3.535990\n",
       "wickets_lost         3.169927\n",
       "run_rate             5.803409\n",
       "opponent_strength    3.711084\n",
       "dtype: float64"
      ]
     },
     "execution_count": 42,
     "metadata": {},
     "output_type": "execute_result"
    }
   ],
   "source": [
    "series_before"
   ]
  },
  {
   "cell_type": "markdown",
   "id": "804f28fe-c545-4d5e-8b5e-27b6329e759c",
   "metadata": {},
   "source": [
    "## Multi- colinearity is not Present in Dataset"
   ]
  },
  {
   "cell_type": "markdown",
   "id": "0cc692c4-bd32-4a5d-9731-15efd1710c38",
   "metadata": {},
   "source": [
    "## Model Builiding"
   ]
  },
  {
   "cell_type": "code",
   "execution_count": 44,
   "id": "4ecc4de4-885d-4fb7-b1f7-d954a4cd4569",
   "metadata": {},
   "outputs": [],
   "source": [
    "from sklearn.feature_selection import SequentialFeatureSelector as sfs"
   ]
  },
  {
   "cell_type": "code",
   "execution_count": 45,
   "id": "53ca6d97-a12b-4d52-a782-ea8569772a0b",
   "metadata": {},
   "outputs": [],
   "source": [
    "lreg = LinearRegression()"
   ]
  },
  {
   "cell_type": "code",
   "execution_count": 46,
   "id": "d9985c20-2556-4117-81c8-58ab7aa90aa9",
   "metadata": {},
   "outputs": [
    {
     "data": {
      "text/html": [
       "<style>#sk-container-id-1 {color: black;background-color: white;}#sk-container-id-1 pre{padding: 0;}#sk-container-id-1 div.sk-toggleable {background-color: white;}#sk-container-id-1 label.sk-toggleable__label {cursor: pointer;display: block;width: 100%;margin-bottom: 0;padding: 0.3em;box-sizing: border-box;text-align: center;}#sk-container-id-1 label.sk-toggleable__label-arrow:before {content: \"▸\";float: left;margin-right: 0.25em;color: #696969;}#sk-container-id-1 label.sk-toggleable__label-arrow:hover:before {color: black;}#sk-container-id-1 div.sk-estimator:hover label.sk-toggleable__label-arrow:before {color: black;}#sk-container-id-1 div.sk-toggleable__content {max-height: 0;max-width: 0;overflow: hidden;text-align: left;background-color: #f0f8ff;}#sk-container-id-1 div.sk-toggleable__content pre {margin: 0.2em;color: black;border-radius: 0.25em;background-color: #f0f8ff;}#sk-container-id-1 input.sk-toggleable__control:checked~div.sk-toggleable__content {max-height: 200px;max-width: 100%;overflow: auto;}#sk-container-id-1 input.sk-toggleable__control:checked~label.sk-toggleable__label-arrow:before {content: \"▾\";}#sk-container-id-1 div.sk-estimator input.sk-toggleable__control:checked~label.sk-toggleable__label {background-color: #d4ebff;}#sk-container-id-1 div.sk-label input.sk-toggleable__control:checked~label.sk-toggleable__label {background-color: #d4ebff;}#sk-container-id-1 input.sk-hidden--visually {border: 0;clip: rect(1px 1px 1px 1px);clip: rect(1px, 1px, 1px, 1px);height: 1px;margin: -1px;overflow: hidden;padding: 0;position: absolute;width: 1px;}#sk-container-id-1 div.sk-estimator {font-family: monospace;background-color: #f0f8ff;border: 1px dotted black;border-radius: 0.25em;box-sizing: border-box;margin-bottom: 0.5em;}#sk-container-id-1 div.sk-estimator:hover {background-color: #d4ebff;}#sk-container-id-1 div.sk-parallel-item::after {content: \"\";width: 100%;border-bottom: 1px solid gray;flex-grow: 1;}#sk-container-id-1 div.sk-label:hover label.sk-toggleable__label {background-color: #d4ebff;}#sk-container-id-1 div.sk-serial::before {content: \"\";position: absolute;border-left: 1px solid gray;box-sizing: border-box;top: 0;bottom: 0;left: 50%;z-index: 0;}#sk-container-id-1 div.sk-serial {display: flex;flex-direction: column;align-items: center;background-color: white;padding-right: 0.2em;padding-left: 0.2em;position: relative;}#sk-container-id-1 div.sk-item {position: relative;z-index: 1;}#sk-container-id-1 div.sk-parallel {display: flex;align-items: stretch;justify-content: center;background-color: white;position: relative;}#sk-container-id-1 div.sk-item::before, #sk-container-id-1 div.sk-parallel-item::before {content: \"\";position: absolute;border-left: 1px solid gray;box-sizing: border-box;top: 0;bottom: 0;left: 50%;z-index: -1;}#sk-container-id-1 div.sk-parallel-item {display: flex;flex-direction: column;z-index: 1;position: relative;background-color: white;}#sk-container-id-1 div.sk-parallel-item:first-child::after {align-self: flex-end;width: 50%;}#sk-container-id-1 div.sk-parallel-item:last-child::after {align-self: flex-start;width: 50%;}#sk-container-id-1 div.sk-parallel-item:only-child::after {width: 0;}#sk-container-id-1 div.sk-dashed-wrapped {border: 1px dashed gray;margin: 0 0.4em 0.5em 0.4em;box-sizing: border-box;padding-bottom: 0.4em;background-color: white;}#sk-container-id-1 div.sk-label label {font-family: monospace;font-weight: bold;display: inline-block;line-height: 1.2em;}#sk-container-id-1 div.sk-label-container {text-align: center;}#sk-container-id-1 div.sk-container {/* jupyter's `normalize.less` sets `[hidden] { display: none; }` but bootstrap.min.css set `[hidden] { display: none !important; }` so we also need the `!important` here to be able to override the default hidden behavior on the sphinx rendered scikit-learn.org. See: https://github.com/scikit-learn/scikit-learn/issues/21755 */display: inline-block !important;position: relative;}#sk-container-id-1 div.sk-text-repr-fallback {display: none;}</style><div id=\"sk-container-id-1\" class=\"sk-top-container\"><div class=\"sk-text-repr-fallback\"><pre>SequentialFeatureSelector(estimator=LinearRegression(), n_features_to_select=3,\n",
       "                          scoring=&#x27;r2&#x27;)</pre><b>In a Jupyter environment, please rerun this cell to show the HTML representation or trust the notebook. <br />On GitHub, the HTML representation is unable to render, please try loading this page with nbviewer.org.</b></div><div class=\"sk-container\" hidden><div class=\"sk-item sk-dashed-wrapped\"><div class=\"sk-label-container\"><div class=\"sk-label sk-toggleable\"><input class=\"sk-toggleable__control sk-hidden--visually\" id=\"sk-estimator-id-1\" type=\"checkbox\" ><label for=\"sk-estimator-id-1\" class=\"sk-toggleable__label sk-toggleable__label-arrow\">SequentialFeatureSelector</label><div class=\"sk-toggleable__content\"><pre>SequentialFeatureSelector(estimator=LinearRegression(), n_features_to_select=3,\n",
       "                          scoring=&#x27;r2&#x27;)</pre></div></div></div><div class=\"sk-parallel\"><div class=\"sk-parallel-item\"><div class=\"sk-item\"><div class=\"sk-label-container\"><div class=\"sk-label sk-toggleable\"><input class=\"sk-toggleable__control sk-hidden--visually\" id=\"sk-estimator-id-2\" type=\"checkbox\" ><label for=\"sk-estimator-id-2\" class=\"sk-toggleable__label sk-toggleable__label-arrow\">estimator: LinearRegression</label><div class=\"sk-toggleable__content\"><pre>LinearRegression()</pre></div></div></div><div class=\"sk-serial\"><div class=\"sk-item\"><div class=\"sk-estimator sk-toggleable\"><input class=\"sk-toggleable__control sk-hidden--visually\" id=\"sk-estimator-id-3\" type=\"checkbox\" ><label for=\"sk-estimator-id-3\" class=\"sk-toggleable__label sk-toggleable__label-arrow\">LinearRegression</label><div class=\"sk-toggleable__content\"><pre>LinearRegression()</pre></div></div></div></div></div></div></div></div></div></div>"
      ],
      "text/plain": [
       "SequentialFeatureSelector(estimator=LinearRegression(), n_features_to_select=3,\n",
       "                          scoring='r2')"
      ]
     },
     "execution_count": 46,
     "metadata": {},
     "output_type": "execute_result"
    }
   ],
   "source": [
    "model = sfs(lreg , n_features_to_select=3 , direction = 'forward', scoring = 'r2')\n",
    "model"
   ]
  },
  {
   "cell_type": "code",
   "execution_count": 47,
   "id": "3038346f-4545-44c8-9b67-d8c19835b80f",
   "metadata": {},
   "outputs": [
    {
     "data": {
      "text/html": [
       "<style>#sk-container-id-2 {color: black;background-color: white;}#sk-container-id-2 pre{padding: 0;}#sk-container-id-2 div.sk-toggleable {background-color: white;}#sk-container-id-2 label.sk-toggleable__label {cursor: pointer;display: block;width: 100%;margin-bottom: 0;padding: 0.3em;box-sizing: border-box;text-align: center;}#sk-container-id-2 label.sk-toggleable__label-arrow:before {content: \"▸\";float: left;margin-right: 0.25em;color: #696969;}#sk-container-id-2 label.sk-toggleable__label-arrow:hover:before {color: black;}#sk-container-id-2 div.sk-estimator:hover label.sk-toggleable__label-arrow:before {color: black;}#sk-container-id-2 div.sk-toggleable__content {max-height: 0;max-width: 0;overflow: hidden;text-align: left;background-color: #f0f8ff;}#sk-container-id-2 div.sk-toggleable__content pre {margin: 0.2em;color: black;border-radius: 0.25em;background-color: #f0f8ff;}#sk-container-id-2 input.sk-toggleable__control:checked~div.sk-toggleable__content {max-height: 200px;max-width: 100%;overflow: auto;}#sk-container-id-2 input.sk-toggleable__control:checked~label.sk-toggleable__label-arrow:before {content: \"▾\";}#sk-container-id-2 div.sk-estimator input.sk-toggleable__control:checked~label.sk-toggleable__label {background-color: #d4ebff;}#sk-container-id-2 div.sk-label input.sk-toggleable__control:checked~label.sk-toggleable__label {background-color: #d4ebff;}#sk-container-id-2 input.sk-hidden--visually {border: 0;clip: rect(1px 1px 1px 1px);clip: rect(1px, 1px, 1px, 1px);height: 1px;margin: -1px;overflow: hidden;padding: 0;position: absolute;width: 1px;}#sk-container-id-2 div.sk-estimator {font-family: monospace;background-color: #f0f8ff;border: 1px dotted black;border-radius: 0.25em;box-sizing: border-box;margin-bottom: 0.5em;}#sk-container-id-2 div.sk-estimator:hover {background-color: #d4ebff;}#sk-container-id-2 div.sk-parallel-item::after {content: \"\";width: 100%;border-bottom: 1px solid gray;flex-grow: 1;}#sk-container-id-2 div.sk-label:hover label.sk-toggleable__label {background-color: #d4ebff;}#sk-container-id-2 div.sk-serial::before {content: \"\";position: absolute;border-left: 1px solid gray;box-sizing: border-box;top: 0;bottom: 0;left: 50%;z-index: 0;}#sk-container-id-2 div.sk-serial {display: flex;flex-direction: column;align-items: center;background-color: white;padding-right: 0.2em;padding-left: 0.2em;position: relative;}#sk-container-id-2 div.sk-item {position: relative;z-index: 1;}#sk-container-id-2 div.sk-parallel {display: flex;align-items: stretch;justify-content: center;background-color: white;position: relative;}#sk-container-id-2 div.sk-item::before, #sk-container-id-2 div.sk-parallel-item::before {content: \"\";position: absolute;border-left: 1px solid gray;box-sizing: border-box;top: 0;bottom: 0;left: 50%;z-index: -1;}#sk-container-id-2 div.sk-parallel-item {display: flex;flex-direction: column;z-index: 1;position: relative;background-color: white;}#sk-container-id-2 div.sk-parallel-item:first-child::after {align-self: flex-end;width: 50%;}#sk-container-id-2 div.sk-parallel-item:last-child::after {align-self: flex-start;width: 50%;}#sk-container-id-2 div.sk-parallel-item:only-child::after {width: 0;}#sk-container-id-2 div.sk-dashed-wrapped {border: 1px dashed gray;margin: 0 0.4em 0.5em 0.4em;box-sizing: border-box;padding-bottom: 0.4em;background-color: white;}#sk-container-id-2 div.sk-label label {font-family: monospace;font-weight: bold;display: inline-block;line-height: 1.2em;}#sk-container-id-2 div.sk-label-container {text-align: center;}#sk-container-id-2 div.sk-container {/* jupyter's `normalize.less` sets `[hidden] { display: none; }` but bootstrap.min.css set `[hidden] { display: none !important; }` so we also need the `!important` here to be able to override the default hidden behavior on the sphinx rendered scikit-learn.org. See: https://github.com/scikit-learn/scikit-learn/issues/21755 */display: inline-block !important;position: relative;}#sk-container-id-2 div.sk-text-repr-fallback {display: none;}</style><div id=\"sk-container-id-2\" class=\"sk-top-container\"><div class=\"sk-text-repr-fallback\"><pre>SequentialFeatureSelector(estimator=LinearRegression(), n_features_to_select=3,\n",
       "                          scoring=&#x27;r2&#x27;)</pre><b>In a Jupyter environment, please rerun this cell to show the HTML representation or trust the notebook. <br />On GitHub, the HTML representation is unable to render, please try loading this page with nbviewer.org.</b></div><div class=\"sk-container\" hidden><div class=\"sk-item sk-dashed-wrapped\"><div class=\"sk-label-container\"><div class=\"sk-label sk-toggleable\"><input class=\"sk-toggleable__control sk-hidden--visually\" id=\"sk-estimator-id-4\" type=\"checkbox\" ><label for=\"sk-estimator-id-4\" class=\"sk-toggleable__label sk-toggleable__label-arrow\">SequentialFeatureSelector</label><div class=\"sk-toggleable__content\"><pre>SequentialFeatureSelector(estimator=LinearRegression(), n_features_to_select=3,\n",
       "                          scoring=&#x27;r2&#x27;)</pre></div></div></div><div class=\"sk-parallel\"><div class=\"sk-parallel-item\"><div class=\"sk-item\"><div class=\"sk-label-container\"><div class=\"sk-label sk-toggleable\"><input class=\"sk-toggleable__control sk-hidden--visually\" id=\"sk-estimator-id-5\" type=\"checkbox\" ><label for=\"sk-estimator-id-5\" class=\"sk-toggleable__label sk-toggleable__label-arrow\">estimator: LinearRegression</label><div class=\"sk-toggleable__content\"><pre>LinearRegression()</pre></div></div></div><div class=\"sk-serial\"><div class=\"sk-item\"><div class=\"sk-estimator sk-toggleable\"><input class=\"sk-toggleable__control sk-hidden--visually\" id=\"sk-estimator-id-6\" type=\"checkbox\" ><label for=\"sk-estimator-id-6\" class=\"sk-toggleable__label sk-toggleable__label-arrow\">LinearRegression</label><div class=\"sk-toggleable__content\"><pre>LinearRegression()</pre></div></div></div></div></div></div></div></div></div></div>"
      ],
      "text/plain": [
       "SequentialFeatureSelector(estimator=LinearRegression(), n_features_to_select=3,\n",
       "                          scoring='r2')"
      ]
     },
     "execution_count": 47,
     "metadata": {},
     "output_type": "execute_result"
    }
   ],
   "source": [
    "model.fit(x_train, y_train)"
   ]
  },
  {
   "cell_type": "code",
   "execution_count": 48,
   "id": "8d01fe67-c15d-4f96-938d-3711fa280f32",
   "metadata": {},
   "outputs": [
    {
     "data": {
      "text/plain": [
       "array(['overs_played', 'wickets_lost', 'run_rate', 'opponent_strength'],\n",
       "      dtype=object)"
      ]
     },
     "execution_count": 48,
     "metadata": {},
     "output_type": "execute_result"
    }
   ],
   "source": [
    "model.feature_names_in_"
   ]
  },
  {
   "cell_type": "code",
   "execution_count": 49,
   "id": "4748d31e-8993-4134-80cb-55b0c754721b",
   "metadata": {},
   "outputs": [
    {
     "data": {
      "text/plain": [
       "array(['overs_played', 'wickets_lost', 'run_rate'], dtype=object)"
      ]
     },
     "execution_count": 49,
     "metadata": {},
     "output_type": "execute_result"
    }
   ],
   "source": [
    "model.get_feature_names_out()"
   ]
  },
  {
   "cell_type": "code",
   "execution_count": null,
   "id": "aa52ef31-0d10-4e07-8ea0-8a1d7bc88de2",
   "metadata": {},
   "outputs": [],
   "source": []
  },
  {
   "cell_type": "markdown",
   "id": "c2c13903-127f-46e2-bbb6-65b710f824db",
   "metadata": {},
   "source": [
    "## Method - 2 Sklearn"
   ]
  },
  {
   "cell_type": "code",
   "execution_count": 51,
   "id": "0ebdfef9-0575-400a-9f2a-b0856436954e",
   "metadata": {},
   "outputs": [
    {
     "data": {
      "text/html": [
       "<div>\n",
       "<style scoped>\n",
       "    .dataframe tbody tr th:only-of-type {\n",
       "        vertical-align: middle;\n",
       "    }\n",
       "\n",
       "    .dataframe tbody tr th {\n",
       "        vertical-align: top;\n",
       "    }\n",
       "\n",
       "    .dataframe thead th {\n",
       "        text-align: right;\n",
       "    }\n",
       "</style>\n",
       "<table border=\"1\" class=\"dataframe\">\n",
       "  <thead>\n",
       "    <tr style=\"text-align: right;\">\n",
       "      <th></th>\n",
       "      <th>overs_played</th>\n",
       "      <th>wickets_lost</th>\n",
       "      <th>run_rate</th>\n",
       "    </tr>\n",
       "  </thead>\n",
       "  <tbody>\n",
       "    <tr>\n",
       "      <th>1020</th>\n",
       "      <td>20</td>\n",
       "      <td>9</td>\n",
       "      <td>14.08</td>\n",
       "    </tr>\n",
       "    <tr>\n",
       "      <th>1406</th>\n",
       "      <td>13</td>\n",
       "      <td>7</td>\n",
       "      <td>12.54</td>\n",
       "    </tr>\n",
       "    <tr>\n",
       "      <th>298</th>\n",
       "      <td>3</td>\n",
       "      <td>0</td>\n",
       "      <td>11.33</td>\n",
       "    </tr>\n",
       "    <tr>\n",
       "      <th>1187</th>\n",
       "      <td>1</td>\n",
       "      <td>7</td>\n",
       "      <td>7.11</td>\n",
       "    </tr>\n",
       "    <tr>\n",
       "      <th>235</th>\n",
       "      <td>1</td>\n",
       "      <td>3</td>\n",
       "      <td>7.81</td>\n",
       "    </tr>\n",
       "  </tbody>\n",
       "</table>\n",
       "</div>"
      ],
      "text/plain": [
       "      overs_played  wickets_lost  run_rate\n",
       "1020            20             9     14.08\n",
       "1406            13             7     12.54\n",
       "298              3             0     11.33\n",
       "1187             1             7      7.11\n",
       "235              1             3      7.81"
      ]
     },
     "execution_count": 51,
     "metadata": {},
     "output_type": "execute_result"
    }
   ],
   "source": [
    "x_train = x_train.loc[:,['overs_played', 'wickets_lost', 'run_rate']]\n",
    "x_train.head()"
   ]
  },
  {
   "cell_type": "code",
   "execution_count": 52,
   "id": "1a43ba29-ff31-4cae-96cd-e717898656c9",
   "metadata": {},
   "outputs": [
    {
     "data": {
      "text/html": [
       "<div>\n",
       "<style scoped>\n",
       "    .dataframe tbody tr th:only-of-type {\n",
       "        vertical-align: middle;\n",
       "    }\n",
       "\n",
       "    .dataframe tbody tr th {\n",
       "        vertical-align: top;\n",
       "    }\n",
       "\n",
       "    .dataframe thead th {\n",
       "        text-align: right;\n",
       "    }\n",
       "</style>\n",
       "<table border=\"1\" class=\"dataframe\">\n",
       "  <thead>\n",
       "    <tr style=\"text-align: right;\">\n",
       "      <th></th>\n",
       "      <th>overs_played</th>\n",
       "      <th>wickets_lost</th>\n",
       "      <th>run_rate</th>\n",
       "      <th>predicted_score</th>\n",
       "    </tr>\n",
       "  </thead>\n",
       "  <tbody>\n",
       "    <tr>\n",
       "      <th>1020</th>\n",
       "      <td>20</td>\n",
       "      <td>9</td>\n",
       "      <td>14.08</td>\n",
       "      <td>207.5</td>\n",
       "    </tr>\n",
       "    <tr>\n",
       "      <th>1406</th>\n",
       "      <td>13</td>\n",
       "      <td>7</td>\n",
       "      <td>12.54</td>\n",
       "      <td>207.5</td>\n",
       "    </tr>\n",
       "    <tr>\n",
       "      <th>298</th>\n",
       "      <td>3</td>\n",
       "      <td>0</td>\n",
       "      <td>11.33</td>\n",
       "      <td>67.0</td>\n",
       "    </tr>\n",
       "    <tr>\n",
       "      <th>1187</th>\n",
       "      <td>1</td>\n",
       "      <td>7</td>\n",
       "      <td>7.11</td>\n",
       "      <td>15.0</td>\n",
       "    </tr>\n",
       "    <tr>\n",
       "      <th>235</th>\n",
       "      <td>1</td>\n",
       "      <td>3</td>\n",
       "      <td>7.81</td>\n",
       "      <td>16.0</td>\n",
       "    </tr>\n",
       "  </tbody>\n",
       "</table>\n",
       "</div>"
      ],
      "text/plain": [
       "      overs_played  wickets_lost  run_rate  predicted_score\n",
       "1020            20             9     14.08            207.5\n",
       "1406            13             7     12.54            207.5\n",
       "298              3             0     11.33             67.0\n",
       "1187             1             7      7.11             15.0\n",
       "235              1             3      7.81             16.0"
      ]
     },
     "execution_count": 52,
     "metadata": {},
     "output_type": "execute_result"
    }
   ],
   "source": [
    "train = pd.concat([x_train, y_train], axis = 1)\n",
    "train.head()"
   ]
  },
  {
   "cell_type": "code",
   "execution_count": 53,
   "id": "d413be82-8306-4aef-a8d4-3479fe97fd48",
   "metadata": {},
   "outputs": [],
   "source": [
    "model3 = LinearRegression()"
   ]
  },
  {
   "cell_type": "code",
   "execution_count": 54,
   "id": "590cf09d-582e-4a34-867d-8c308464e922",
   "metadata": {},
   "outputs": [
    {
     "data": {
      "text/html": [
       "<style>#sk-container-id-3 {color: black;background-color: white;}#sk-container-id-3 pre{padding: 0;}#sk-container-id-3 div.sk-toggleable {background-color: white;}#sk-container-id-3 label.sk-toggleable__label {cursor: pointer;display: block;width: 100%;margin-bottom: 0;padding: 0.3em;box-sizing: border-box;text-align: center;}#sk-container-id-3 label.sk-toggleable__label-arrow:before {content: \"▸\";float: left;margin-right: 0.25em;color: #696969;}#sk-container-id-3 label.sk-toggleable__label-arrow:hover:before {color: black;}#sk-container-id-3 div.sk-estimator:hover label.sk-toggleable__label-arrow:before {color: black;}#sk-container-id-3 div.sk-toggleable__content {max-height: 0;max-width: 0;overflow: hidden;text-align: left;background-color: #f0f8ff;}#sk-container-id-3 div.sk-toggleable__content pre {margin: 0.2em;color: black;border-radius: 0.25em;background-color: #f0f8ff;}#sk-container-id-3 input.sk-toggleable__control:checked~div.sk-toggleable__content {max-height: 200px;max-width: 100%;overflow: auto;}#sk-container-id-3 input.sk-toggleable__control:checked~label.sk-toggleable__label-arrow:before {content: \"▾\";}#sk-container-id-3 div.sk-estimator input.sk-toggleable__control:checked~label.sk-toggleable__label {background-color: #d4ebff;}#sk-container-id-3 div.sk-label input.sk-toggleable__control:checked~label.sk-toggleable__label {background-color: #d4ebff;}#sk-container-id-3 input.sk-hidden--visually {border: 0;clip: rect(1px 1px 1px 1px);clip: rect(1px, 1px, 1px, 1px);height: 1px;margin: -1px;overflow: hidden;padding: 0;position: absolute;width: 1px;}#sk-container-id-3 div.sk-estimator {font-family: monospace;background-color: #f0f8ff;border: 1px dotted black;border-radius: 0.25em;box-sizing: border-box;margin-bottom: 0.5em;}#sk-container-id-3 div.sk-estimator:hover {background-color: #d4ebff;}#sk-container-id-3 div.sk-parallel-item::after {content: \"\";width: 100%;border-bottom: 1px solid gray;flex-grow: 1;}#sk-container-id-3 div.sk-label:hover label.sk-toggleable__label {background-color: #d4ebff;}#sk-container-id-3 div.sk-serial::before {content: \"\";position: absolute;border-left: 1px solid gray;box-sizing: border-box;top: 0;bottom: 0;left: 50%;z-index: 0;}#sk-container-id-3 div.sk-serial {display: flex;flex-direction: column;align-items: center;background-color: white;padding-right: 0.2em;padding-left: 0.2em;position: relative;}#sk-container-id-3 div.sk-item {position: relative;z-index: 1;}#sk-container-id-3 div.sk-parallel {display: flex;align-items: stretch;justify-content: center;background-color: white;position: relative;}#sk-container-id-3 div.sk-item::before, #sk-container-id-3 div.sk-parallel-item::before {content: \"\";position: absolute;border-left: 1px solid gray;box-sizing: border-box;top: 0;bottom: 0;left: 50%;z-index: -1;}#sk-container-id-3 div.sk-parallel-item {display: flex;flex-direction: column;z-index: 1;position: relative;background-color: white;}#sk-container-id-3 div.sk-parallel-item:first-child::after {align-self: flex-end;width: 50%;}#sk-container-id-3 div.sk-parallel-item:last-child::after {align-self: flex-start;width: 50%;}#sk-container-id-3 div.sk-parallel-item:only-child::after {width: 0;}#sk-container-id-3 div.sk-dashed-wrapped {border: 1px dashed gray;margin: 0 0.4em 0.5em 0.4em;box-sizing: border-box;padding-bottom: 0.4em;background-color: white;}#sk-container-id-3 div.sk-label label {font-family: monospace;font-weight: bold;display: inline-block;line-height: 1.2em;}#sk-container-id-3 div.sk-label-container {text-align: center;}#sk-container-id-3 div.sk-container {/* jupyter's `normalize.less` sets `[hidden] { display: none; }` but bootstrap.min.css set `[hidden] { display: none !important; }` so we also need the `!important` here to be able to override the default hidden behavior on the sphinx rendered scikit-learn.org. See: https://github.com/scikit-learn/scikit-learn/issues/21755 */display: inline-block !important;position: relative;}#sk-container-id-3 div.sk-text-repr-fallback {display: none;}</style><div id=\"sk-container-id-3\" class=\"sk-top-container\"><div class=\"sk-text-repr-fallback\"><pre>LinearRegression()</pre><b>In a Jupyter environment, please rerun this cell to show the HTML representation or trust the notebook. <br />On GitHub, the HTML representation is unable to render, please try loading this page with nbviewer.org.</b></div><div class=\"sk-container\" hidden><div class=\"sk-item\"><div class=\"sk-estimator sk-toggleable\"><input class=\"sk-toggleable__control sk-hidden--visually\" id=\"sk-estimator-id-7\" type=\"checkbox\" checked><label for=\"sk-estimator-id-7\" class=\"sk-toggleable__label sk-toggleable__label-arrow\">LinearRegression</label><div class=\"sk-toggleable__content\"><pre>LinearRegression()</pre></div></div></div></div></div>"
      ],
      "text/plain": [
       "LinearRegression()"
      ]
     },
     "execution_count": 54,
     "metadata": {},
     "output_type": "execute_result"
    }
   ],
   "source": [
    "model3.fit(x_train, y_train)"
   ]
  },
  {
   "cell_type": "code",
   "execution_count": 56,
   "id": "276a241b-de90-4b8c-a4bc-25157db7a9e6",
   "metadata": {},
   "outputs": [
    {
     "data": {
      "text/plain": [
       "array([-58.88])"
      ]
     },
     "execution_count": 56,
     "metadata": {},
     "output_type": "execute_result"
    }
   ],
   "source": [
    "np.round(model3.intercept_,2) # B0"
   ]
  },
  {
   "cell_type": "code",
   "execution_count": 58,
   "id": "6cae7b0c-dd92-42b1-ab57-5a552b4b17a7",
   "metadata": {},
   "outputs": [
    {
     "data": {
      "text/plain": [
       "array([[ 8.583, -1.219,  8.379]])"
      ]
     },
     "execution_count": 58,
     "metadata": {},
     "output_type": "execute_result"
    }
   ],
   "source": [
    "np.round(model3.coef_,3)   # B1, B2, B3"
   ]
  },
  {
   "cell_type": "code",
   "execution_count": 59,
   "id": "27eda966-ad67-42e4-bc0c-c73618f83103",
   "metadata": {},
   "outputs": [
    {
     "data": {
      "text/plain": [
       "array(['overs_played', 'wickets_lost', 'run_rate'], dtype=object)"
      ]
     },
     "execution_count": 59,
     "metadata": {},
     "output_type": "execute_result"
    }
   ],
   "source": [
    "model3.feature_names_in_"
   ]
  },
  {
   "cell_type": "markdown",
   "id": "d3bd3501-5297-4607-b55f-771eb0932b68",
   "metadata": {},
   "source": [
    "## Prediction on train"
   ]
  },
  {
   "cell_type": "code",
   "execution_count": 60,
   "id": "3c97ce23-6328-4186-89fa-351ae49f74a1",
   "metadata": {},
   "outputs": [
    {
     "data": {
      "text/html": [
       "<div>\n",
       "<style scoped>\n",
       "    .dataframe tbody tr th:only-of-type {\n",
       "        vertical-align: middle;\n",
       "    }\n",
       "\n",
       "    .dataframe tbody tr th {\n",
       "        vertical-align: top;\n",
       "    }\n",
       "\n",
       "    .dataframe thead th {\n",
       "        text-align: right;\n",
       "    }\n",
       "</style>\n",
       "<table border=\"1\" class=\"dataframe\">\n",
       "  <thead>\n",
       "    <tr style=\"text-align: right;\">\n",
       "      <th></th>\n",
       "      <th>overs_played</th>\n",
       "      <th>wickets_lost</th>\n",
       "      <th>run_rate</th>\n",
       "      <th>predicted_score</th>\n",
       "      <th>fitted</th>\n",
       "    </tr>\n",
       "  </thead>\n",
       "  <tbody>\n",
       "    <tr>\n",
       "      <th>1020</th>\n",
       "      <td>20</td>\n",
       "      <td>9</td>\n",
       "      <td>14.08</td>\n",
       "      <td>207.5</td>\n",
       "      <td>219.78</td>\n",
       "    </tr>\n",
       "    <tr>\n",
       "      <th>1406</th>\n",
       "      <td>13</td>\n",
       "      <td>7</td>\n",
       "      <td>12.54</td>\n",
       "      <td>207.5</td>\n",
       "      <td>149.24</td>\n",
       "    </tr>\n",
       "    <tr>\n",
       "      <th>298</th>\n",
       "      <td>3</td>\n",
       "      <td>0</td>\n",
       "      <td>11.33</td>\n",
       "      <td>67.0</td>\n",
       "      <td>61.81</td>\n",
       "    </tr>\n",
       "    <tr>\n",
       "      <th>1187</th>\n",
       "      <td>1</td>\n",
       "      <td>7</td>\n",
       "      <td>7.11</td>\n",
       "      <td>15.0</td>\n",
       "      <td>0.74</td>\n",
       "    </tr>\n",
       "    <tr>\n",
       "      <th>235</th>\n",
       "      <td>1</td>\n",
       "      <td>3</td>\n",
       "      <td>7.81</td>\n",
       "      <td>16.0</td>\n",
       "      <td>11.49</td>\n",
       "    </tr>\n",
       "  </tbody>\n",
       "</table>\n",
       "</div>"
      ],
      "text/plain": [
       "      overs_played  wickets_lost  run_rate  predicted_score  fitted\n",
       "1020            20             9     14.08            207.5  219.78\n",
       "1406            13             7     12.54            207.5  149.24\n",
       "298              3             0     11.33             67.0   61.81\n",
       "1187             1             7      7.11             15.0    0.74\n",
       "235              1             3      7.81             16.0   11.49"
      ]
     },
     "execution_count": 60,
     "metadata": {},
     "output_type": "execute_result"
    }
   ],
   "source": [
    "train['fitted'] = np.round(model3.predict(x_train),2)\n",
    "train.head()"
   ]
  },
  {
   "cell_type": "code",
   "execution_count": 62,
   "id": "1c57f93b-0d03-4fbc-a5a8-c7b2810ed638",
   "metadata": {},
   "outputs": [
    {
     "data": {
      "text/html": [
       "<div>\n",
       "<style scoped>\n",
       "    .dataframe tbody tr th:only-of-type {\n",
       "        vertical-align: middle;\n",
       "    }\n",
       "\n",
       "    .dataframe tbody tr th {\n",
       "        vertical-align: top;\n",
       "    }\n",
       "\n",
       "    .dataframe thead th {\n",
       "        text-align: right;\n",
       "    }\n",
       "</style>\n",
       "<table border=\"1\" class=\"dataframe\">\n",
       "  <thead>\n",
       "    <tr style=\"text-align: right;\">\n",
       "      <th></th>\n",
       "      <th>overs_played</th>\n",
       "      <th>wickets_lost</th>\n",
       "      <th>run_rate</th>\n",
       "      <th>predicted_score</th>\n",
       "      <th>fitted</th>\n",
       "      <th>residual</th>\n",
       "    </tr>\n",
       "  </thead>\n",
       "  <tbody>\n",
       "    <tr>\n",
       "      <th>1020</th>\n",
       "      <td>20</td>\n",
       "      <td>9</td>\n",
       "      <td>14.08</td>\n",
       "      <td>207.5</td>\n",
       "      <td>219.78</td>\n",
       "      <td>-12.28</td>\n",
       "    </tr>\n",
       "    <tr>\n",
       "      <th>1406</th>\n",
       "      <td>13</td>\n",
       "      <td>7</td>\n",
       "      <td>12.54</td>\n",
       "      <td>207.5</td>\n",
       "      <td>149.24</td>\n",
       "      <td>58.26</td>\n",
       "    </tr>\n",
       "    <tr>\n",
       "      <th>298</th>\n",
       "      <td>3</td>\n",
       "      <td>0</td>\n",
       "      <td>11.33</td>\n",
       "      <td>67.0</td>\n",
       "      <td>61.81</td>\n",
       "      <td>5.19</td>\n",
       "    </tr>\n",
       "    <tr>\n",
       "      <th>1187</th>\n",
       "      <td>1</td>\n",
       "      <td>7</td>\n",
       "      <td>7.11</td>\n",
       "      <td>15.0</td>\n",
       "      <td>0.74</td>\n",
       "      <td>14.26</td>\n",
       "    </tr>\n",
       "    <tr>\n",
       "      <th>235</th>\n",
       "      <td>1</td>\n",
       "      <td>3</td>\n",
       "      <td>7.81</td>\n",
       "      <td>16.0</td>\n",
       "      <td>11.49</td>\n",
       "      <td>4.51</td>\n",
       "    </tr>\n",
       "  </tbody>\n",
       "</table>\n",
       "</div>"
      ],
      "text/plain": [
       "      overs_played  wickets_lost  run_rate  predicted_score  fitted  residual\n",
       "1020            20             9     14.08            207.5  219.78    -12.28\n",
       "1406            13             7     12.54            207.5  149.24     58.26\n",
       "298              3             0     11.33             67.0   61.81      5.19\n",
       "1187             1             7      7.11             15.0    0.74     14.26\n",
       "235              1             3      7.81             16.0   11.49      4.51"
      ]
     },
     "execution_count": 62,
     "metadata": {},
     "output_type": "execute_result"
    }
   ],
   "source": [
    "train['residual'] = np.round(train.predicted_score - train.fitted,2)\n",
    "train.head()"
   ]
  },
  {
   "cell_type": "markdown",
   "id": "46943848-5e99-446b-b9ac-23ae35cee8d4",
   "metadata": {},
   "source": [
    "## Accuracy"
   ]
  },
  {
   "cell_type": "code",
   "execution_count": 63,
   "id": "59363e7e-7470-4481-8a36-1632c085fb88",
   "metadata": {},
   "outputs": [],
   "source": [
    "from sklearn.metrics import r2_score"
   ]
  },
  {
   "cell_type": "code",
   "execution_count": 65,
   "id": "9c712ebe-ed4b-4882-b2de-6d556d088021",
   "metadata": {},
   "outputs": [
    {
     "data": {
      "text/plain": [
       "87.60633146160352"
      ]
     },
     "execution_count": 65,
     "metadata": {},
     "output_type": "execute_result"
    }
   ],
   "source": [
    "r2 = r2_score(train.predicted_score , train.fitted)\n",
    "r2* 100"
   ]
  },
  {
   "cell_type": "markdown",
   "id": "f7ec6acc-4d4c-47a5-b297-7122477edb6c",
   "metadata": {},
   "source": [
    "## Loss / Cost / Error Function - RMSE"
   ]
  },
  {
   "cell_type": "code",
   "execution_count": 66,
   "id": "308ac25e-c900-437e-9059-2eca48309801",
   "metadata": {},
   "outputs": [],
   "source": [
    "from sklearn.metrics import mean_squared_error"
   ]
  },
  {
   "cell_type": "code",
   "execution_count": 67,
   "id": "3aa262d4-1f9e-428d-8534-9de23eb2fae4",
   "metadata": {},
   "outputs": [],
   "source": [
    "model_mse = mean_squared_error(train['predicted_score'] , train['fitted'])"
   ]
  },
  {
   "cell_type": "code",
   "execution_count": 68,
   "id": "4dfccbf7-a2a6-407a-adf9-38e198c1aef9",
   "metadata": {},
   "outputs": [
    {
     "data": {
      "text/plain": [
       "21.17939285068884"
      ]
     },
     "execution_count": 68,
     "metadata": {},
     "output_type": "execute_result"
    }
   ],
   "source": [
    "model_rmse = np.sqrt(model_mse)\n",
    "model_rmse"
   ]
  },
  {
   "cell_type": "markdown",
   "id": "863e1716-7b50-4070-baa8-529fa144b875",
   "metadata": {},
   "source": [
    "### Assumption of model"
   ]
  },
  {
   "cell_type": "markdown",
   "id": "f2f6b08a-9cc9-4718-81b3-345acf2c498b",
   "metadata": {},
   "source": [
    "## 1.linearity"
   ]
  },
  {
   "cell_type": "code",
   "execution_count": 71,
   "id": "fc62ffde-7bb5-4c38-816f-1b76afbc5672",
   "metadata": {},
   "outputs": [
    {
     "data": {
      "text/plain": [
       "<Axes: xlabel='wickets_lost', ylabel='predicted_score'>"
      ]
     },
     "execution_count": 71,
     "metadata": {},
     "output_type": "execute_result"
    },
    {
     "data": {
      "image/png": "[encoded data removed]",
      "text/plain": [
       "<Figure size 640x480 with 1 Axes>"
      ]
     },
     "metadata": {},
     "output_type": "display_data"
    }
   ],
   "source": [
    "sns.scatterplot(x= 'wickets_lost', y = 'predicted_score', data = train)"
   ]
  },
  {
   "cell_type": "markdown",
   "id": "23285c55-138d-4582-ab95-eb73ede800b5",
   "metadata": {},
   "source": [
    "## 2. Homoscadasticity"
   ]
  },
  {
   "cell_type": "code",
   "execution_count": 72,
   "id": "e9711fca-fcd0-40aa-8914-598d33365cfb",
   "metadata": {},
   "outputs": [
    {
     "data": {
      "text/plain": [
       "<Axes: xlabel='fitted', ylabel='residual'>"
      ]
     },
     "execution_count": 72,
     "metadata": {},
     "output_type": "execute_result"
    },
    {
     "data": {
      "image/png": "[encoded data removed]",
      "text/plain": [
       "<Figure size 640x480 with 1 Axes>"
      ]
     },
     "metadata": {},
     "output_type": "display_data"
    }
   ],
   "source": [
    "sns.scatterplot(x = 'fitted', y = 'residual', data = train)"
   ]
  },
  {
   "cell_type": "markdown",
   "id": "73e663b3-8574-4bfb-a231-94244c573da9",
   "metadata": {},
   "source": [
    "## 3.Normality"
   ]
  },
  {
   "cell_type": "code",
   "execution_count": 73,
   "id": "e4f6e8c5-e3b8-44fc-b799-fcc5e057fc20",
   "metadata": {},
   "outputs": [
    {
     "data": {
      "image/png": "[encoded data removed]",
      "text/plain": [
       "<Figure size 640x480 with 1 Axes>"
      ]
     },
     "metadata": {},
     "output_type": "display_data"
    }
   ],
   "source": [
    "import statsmodels.api as sm\n",
    "fig = sm.qqplot(train['residual'], fit=True, line='s') # s indicate standardized line\n",
    "import matplotlib.pyplot as plt\n",
    "plt.show()"
   ]
  },
  {
   "cell_type": "markdown",
   "id": "a8517d99-b06a-4f14-8d0c-c8e3cc748ace",
   "metadata": {},
   "source": [
    "## 4.Model Error are IID"
   ]
  },
  {
   "cell_type": "code",
   "execution_count": 74,
   "id": "299c39a4-159f-4de2-84b3-6332e00a0b78",
   "metadata": {},
   "outputs": [
    {
     "data": {
      "text/plain": [
       "<Axes: ylabel='Frequency'>"
      ]
     },
     "execution_count": 74,
     "metadata": {},
     "output_type": "execute_result"
    },
    {
     "data": {
      "image/png": "[encoded data removed]",
      "text/plain": [
       "<Figure size 640x480 with 1 Axes>"
      ]
     },
     "metadata": {},
     "output_type": "display_data"
    }
   ],
   "source": [
    "train['residual'].plot.hist()"
   ]
  },
  {
   "cell_type": "code",
   "execution_count": 75,
   "id": "e3ebfd1d-d7c9-47ac-9a68-abd0a417aa4d",
   "metadata": {},
   "outputs": [
    {
     "data": {
      "text/plain": [
       "<Axes: xlabel='residual', ylabel='Count'>"
      ]
     },
     "execution_count": 75,
     "metadata": {},
     "output_type": "execute_result"
    },
    {
     "data": {
      "image/png": "[encoded data removed]",
      "text/plain": [
       "<Figure size 640x480 with 1 Axes>"
      ]
     },
     "metadata": {},
     "output_type": "display_data"
    }
   ],
   "source": [
    "sns.histplot(x= 'residual', data = train)"
   ]
  },
  {
   "cell_type": "markdown",
   "id": "0b28f06c-6517-4ce4-9947-6d85e70136bc",
   "metadata": {},
   "source": [
    "## Prediction on test data"
   ]
  },
  {
   "cell_type": "code",
   "execution_count": 76,
   "id": "33e6a94b-605c-4901-8f49-7a40f9864f97",
   "metadata": {},
   "outputs": [
    {
     "data": {
      "text/plain": [
       "array(['overs_played', 'wickets_lost', 'run_rate'], dtype=object)"
      ]
     },
     "execution_count": 76,
     "metadata": {},
     "output_type": "execute_result"
    }
   ],
   "source": [
    "model3.feature_names_in_"
   ]
  },
  {
   "cell_type": "code",
   "execution_count": 83,
   "id": "fbc87931-581b-4e81-b223-2ed55698b5f5",
   "metadata": {},
   "outputs": [
    {
     "data": {
      "text/html": [
       "<div>\n",
       "<style scoped>\n",
       "    .dataframe tbody tr th:only-of-type {\n",
       "        vertical-align: middle;\n",
       "    }\n",
       "\n",
       "    .dataframe tbody tr th {\n",
       "        vertical-align: top;\n",
       "    }\n",
       "\n",
       "    .dataframe thead th {\n",
       "        text-align: right;\n",
       "    }\n",
       "</style>\n",
       "<table border=\"1\" class=\"dataframe\">\n",
       "  <thead>\n",
       "    <tr style=\"text-align: right;\">\n",
       "      <th></th>\n",
       "      <th>overs_played</th>\n",
       "      <th>wickets_lost</th>\n",
       "      <th>run_rate</th>\n",
       "    </tr>\n",
       "  </thead>\n",
       "  <tbody>\n",
       "    <tr>\n",
       "      <th>906</th>\n",
       "      <td>19</td>\n",
       "      <td>9</td>\n",
       "      <td>11.16</td>\n",
       "    </tr>\n",
       "    <tr>\n",
       "      <th>793</th>\n",
       "      <td>3</td>\n",
       "      <td>7</td>\n",
       "      <td>11.07</td>\n",
       "    </tr>\n",
       "    <tr>\n",
       "      <th>103</th>\n",
       "      <td>3</td>\n",
       "      <td>2</td>\n",
       "      <td>8.89</td>\n",
       "    </tr>\n",
       "    <tr>\n",
       "      <th>346</th>\n",
       "      <td>5</td>\n",
       "      <td>9</td>\n",
       "      <td>6.12</td>\n",
       "    </tr>\n",
       "    <tr>\n",
       "      <th>883</th>\n",
       "      <td>8</td>\n",
       "      <td>4</td>\n",
       "      <td>6.18</td>\n",
       "    </tr>\n",
       "  </tbody>\n",
       "</table>\n",
       "</div>"
      ],
      "text/plain": [
       "     overs_played  wickets_lost  run_rate\n",
       "906            19             9     11.16\n",
       "793             3             7     11.07\n",
       "103             3             2      8.89\n",
       "346             5             9      6.12\n",
       "883             8             4      6.18"
      ]
     },
     "execution_count": 83,
     "metadata": {},
     "output_type": "execute_result"
    }
   ],
   "source": [
    "x_test = x_test.loc[:,['overs_played', 'wickets_lost', 'run_rate']] \n",
    "x_test.head()"
   ]
  },
  {
   "cell_type": "code",
   "execution_count": 85,
   "id": "c81326b7-c6e1-4c7a-82ef-ded20a1041c7",
   "metadata": {},
   "outputs": [
    {
     "data": {
      "text/html": [
       "<div>\n",
       "<style scoped>\n",
       "    .dataframe tbody tr th:only-of-type {\n",
       "        vertical-align: middle;\n",
       "    }\n",
       "\n",
       "    .dataframe tbody tr th {\n",
       "        vertical-align: top;\n",
       "    }\n",
       "\n",
       "    .dataframe thead th {\n",
       "        text-align: right;\n",
       "    }\n",
       "</style>\n",
       "<table border=\"1\" class=\"dataframe\">\n",
       "  <thead>\n",
       "    <tr style=\"text-align: right;\">\n",
       "      <th></th>\n",
       "      <th>overs_played</th>\n",
       "      <th>wickets_lost</th>\n",
       "      <th>run_rate</th>\n",
       "      <th>predicted_score</th>\n",
       "    </tr>\n",
       "  </thead>\n",
       "  <tbody>\n",
       "    <tr>\n",
       "      <th>906</th>\n",
       "      <td>19</td>\n",
       "      <td>9</td>\n",
       "      <td>11.16</td>\n",
       "      <td>157.0</td>\n",
       "    </tr>\n",
       "    <tr>\n",
       "      <th>793</th>\n",
       "      <td>3</td>\n",
       "      <td>7</td>\n",
       "      <td>11.07</td>\n",
       "      <td>48.0</td>\n",
       "    </tr>\n",
       "    <tr>\n",
       "      <th>103</th>\n",
       "      <td>3</td>\n",
       "      <td>2</td>\n",
       "      <td>8.89</td>\n",
       "      <td>46.0</td>\n",
       "    </tr>\n",
       "    <tr>\n",
       "      <th>346</th>\n",
       "      <td>5</td>\n",
       "      <td>9</td>\n",
       "      <td>6.12</td>\n",
       "      <td>35.0</td>\n",
       "    </tr>\n",
       "    <tr>\n",
       "      <th>883</th>\n",
       "      <td>8</td>\n",
       "      <td>4</td>\n",
       "      <td>6.18</td>\n",
       "      <td>71.0</td>\n",
       "    </tr>\n",
       "  </tbody>\n",
       "</table>\n",
       "</div>"
      ],
      "text/plain": [
       "     overs_played  wickets_lost  run_rate  predicted_score\n",
       "906            19             9     11.16            157.0\n",
       "793             3             7     11.07             48.0\n",
       "103             3             2      8.89             46.0\n",
       "346             5             9      6.12             35.0\n",
       "883             8             4      6.18             71.0"
      ]
     },
     "execution_count": 85,
     "metadata": {},
     "output_type": "execute_result"
    }
   ],
   "source": [
    "test = pd.concat([x_test, y_test], axis = 1)\n",
    "test.head()"
   ]
  },
  {
   "cell_type": "code",
   "execution_count": 86,
   "id": "54758bfb-a392-4145-ad2a-caf12af741c1",
   "metadata": {},
   "outputs": [],
   "source": [
    "test['fitted'] = np.round(model3.predict(x_test),2)"
   ]
  },
  {
   "cell_type": "code",
   "execution_count": 87,
   "id": "3406c1bd-8857-4e80-b425-0601d2a2a5d9",
   "metadata": {},
   "outputs": [],
   "source": [
    "test['residual'] = np.round(test.predicted_score - test.fitted,2)"
   ]
  },
  {
   "cell_type": "code",
   "execution_count": 88,
   "id": "0fc87d10-4d61-47f5-b177-da6e475de601",
   "metadata": {},
   "outputs": [
    {
     "data": {
      "text/html": [
       "<div>\n",
       "<style scoped>\n",
       "    .dataframe tbody tr th:only-of-type {\n",
       "        vertical-align: middle;\n",
       "    }\n",
       "\n",
       "    .dataframe tbody tr th {\n",
       "        vertical-align: top;\n",
       "    }\n",
       "\n",
       "    .dataframe thead th {\n",
       "        text-align: right;\n",
       "    }\n",
       "</style>\n",
       "<table border=\"1\" class=\"dataframe\">\n",
       "  <thead>\n",
       "    <tr style=\"text-align: right;\">\n",
       "      <th></th>\n",
       "      <th>overs_played</th>\n",
       "      <th>wickets_lost</th>\n",
       "      <th>run_rate</th>\n",
       "      <th>predicted_score</th>\n",
       "      <th>fitted</th>\n",
       "      <th>residual</th>\n",
       "    </tr>\n",
       "  </thead>\n",
       "  <tbody>\n",
       "    <tr>\n",
       "      <th>906</th>\n",
       "      <td>19</td>\n",
       "      <td>9</td>\n",
       "      <td>11.16</td>\n",
       "      <td>157.0</td>\n",
       "      <td>186.73</td>\n",
       "      <td>-29.73</td>\n",
       "    </tr>\n",
       "    <tr>\n",
       "      <th>793</th>\n",
       "      <td>3</td>\n",
       "      <td>7</td>\n",
       "      <td>11.07</td>\n",
       "      <td>48.0</td>\n",
       "      <td>51.09</td>\n",
       "      <td>-3.09</td>\n",
       "    </tr>\n",
       "    <tr>\n",
       "      <th>103</th>\n",
       "      <td>3</td>\n",
       "      <td>2</td>\n",
       "      <td>8.89</td>\n",
       "      <td>46.0</td>\n",
       "      <td>38.92</td>\n",
       "      <td>7.08</td>\n",
       "    </tr>\n",
       "    <tr>\n",
       "      <th>346</th>\n",
       "      <td>5</td>\n",
       "      <td>9</td>\n",
       "      <td>6.12</td>\n",
       "      <td>35.0</td>\n",
       "      <td>24.34</td>\n",
       "      <td>10.66</td>\n",
       "    </tr>\n",
       "    <tr>\n",
       "      <th>883</th>\n",
       "      <td>8</td>\n",
       "      <td>4</td>\n",
       "      <td>6.18</td>\n",
       "      <td>71.0</td>\n",
       "      <td>56.69</td>\n",
       "      <td>14.31</td>\n",
       "    </tr>\n",
       "  </tbody>\n",
       "</table>\n",
       "</div>"
      ],
      "text/plain": [
       "     overs_played  wickets_lost  run_rate  predicted_score  fitted  residual\n",
       "906            19             9     11.16            157.0  186.73    -29.73\n",
       "793             3             7     11.07             48.0   51.09     -3.09\n",
       "103             3             2      8.89             46.0   38.92      7.08\n",
       "346             5             9      6.12             35.0   24.34     10.66\n",
       "883             8             4      6.18             71.0   56.69     14.31"
      ]
     },
     "execution_count": 88,
     "metadata": {},
     "output_type": "execute_result"
    }
   ],
   "source": [
    "test.head()"
   ]
  },
  {
   "cell_type": "code",
   "execution_count": 91,
   "id": "b58c1df5-a245-4022-8b27-646f7f9ec23c",
   "metadata": {},
   "outputs": [
    {
     "data": {
      "text/plain": [
       "86.29739224233542"
      ]
     },
     "execution_count": 91,
     "metadata": {},
     "output_type": "execute_result"
    }
   ],
   "source": [
    "test_r2 = r2_score(test.predicted_score , test.fitted)\n",
    "test_r2*100"
   ]
  },
  {
   "cell_type": "code",
   "execution_count": 95,
   "id": "5d03ae84-4be8-458b-a441-8d31ab0d6706",
   "metadata": {},
   "outputs": [
    {
     "data": {
      "text/plain": [
       "87.60633146160352"
      ]
     },
     "execution_count": 95,
     "metadata": {},
     "output_type": "execute_result"
    }
   ],
   "source": [
    "r2*100  #(Training accuracy)"
   ]
  },
  {
   "cell_type": "markdown",
   "id": "a113f15d-de5d-41d8-8d59-234f67d5f1e7",
   "metadata": {},
   "source": [
    "## Loss Function (RMSE)"
   ]
  },
  {
   "cell_type": "code",
   "execution_count": 96,
   "id": "ac5ca33e-366c-41f1-bef0-778372d00a84",
   "metadata": {},
   "outputs": [],
   "source": [
    "test_mosel_mse = mean_squared_error(test.predicted_score , test.fitted)"
   ]
  },
  {
   "cell_type": "code",
   "execution_count": 97,
   "id": "c8b3451d-92ae-49b6-a667-c37b5953f19a",
   "metadata": {},
   "outputs": [],
   "source": [
    "test_model_rmse = np.sqrt(test_mosel_mse)"
   ]
  },
  {
   "cell_type": "code",
   "execution_count": 98,
   "id": "9ec7fdcf-1925-466f-ba85-06ec96cd151a",
   "metadata": {},
   "outputs": [
    {
     "data": {
      "text/plain": [
       "22.654924100512893"
      ]
     },
     "execution_count": 98,
     "metadata": {},
     "output_type": "execute_result"
    }
   ],
   "source": [
    "test_model_rmse"
   ]
  },
  {
   "cell_type": "code",
   "execution_count": null,
   "id": "98cbcd4e-34eb-4730-8322-ac3a910b3f81",
   "metadata": {},
   "outputs": [],
   "source": []
  }
 ],
 "metadata": {
  "kernelspec": {
   "display_name": "Python 3 (ipykernel)",
   "language": "python",
   "name": "python3"
  },
  "language_info": {
   "codemirror_mode": {
    "name": "ipython",
    "version": 3
   },
   "file_extension": ".py",
   "mimetype": "text/x-python",
   "name": "python",
   "nbconvert_exporter": "python",
   "pygments_lexer": "ipython3",
   "version": "3.11.7"
  }
 },
 "nbformat": 4,
 "nbformat_minor": 5
}
